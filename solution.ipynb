{
 "cells": [
  {
   "cell_type": "markdown",
   "metadata": {},
   "source": [
    "### Clean Data\n",
    "\n",
    "- Change column names to make it easier to write code with\n",
    "- Filter values to only include positions within valid regions of the pitch\n",
    "- Sort the values for more efficient grouping"
   ]
  },
  {
   "cell_type": "code",
   "execution_count": null,
   "metadata": {},
   "outputs": [],
   "source": [
    "import pandas as pd\n",
    "import numpy as np\n",
    "df = pd.read_csv('match_data.csv')\n",
    "df.rename(columns={'Pitch_x': 'x', 'Pitch_y' : 'y',\n",
    "                   'participation_id' : 'id' , 'Time (s)': \n",
    "                   'time', 'Speed (m/s)': 'speed'}, inplace=True)\n",
    "\n",
    "df = df[(df['x'] > -52.5) &\n",
    "        (df['x'] < 52.5) &\n",
    "        (df['y'] > -34) &\n",
    "        (df['y'] < 34)]\n",
    "\n",
    "df.sort_values(by=['id', 'time'], inplace=True)"
   ]
  },
  {
   "cell_type": "markdown",
   "metadata": {},
   "source": [
    "### Leaderboard Generation\n",
    "Create a leaderboard ranking athletes based on the three key metrics:\n",
    "1. Total Distance – The total distance covered by each athlete.\n",
    "2. Distance at Speed Zone 5 – The cumulative distance an athlete runs while moving at a speed\n",
    "between 19.8 km/h and 25.1 km/h.\n",
    "3. Top Speed – The highest speed recorded for each athlete."
   ]
  },
  {
   "cell_type": "code",
   "execution_count": null,
   "metadata": {},
   "outputs": [
    {
     "name": "stdout",
     "output_type": "stream",
     "text": [
      "                                              x          y\n",
      "id                                                        \n",
      "019d8fa9-3cbd-42f2-bfcf-1bc676d13e0f -18.130694   1.660379\n",
      "019d8fa9-3cbd-42f2-bfcf-1bc676d13e0f -18.133425   1.645227\n",
      "019d8fa9-3cbd-42f2-bfcf-1bc676d13e0f -18.136155   1.630076\n",
      "019d8fa9-3cbd-42f2-bfcf-1bc676d13e0f -18.136155   1.630076\n",
      "019d8fa9-3cbd-42f2-bfcf-1bc676d13e0f -18.136155   1.630076\n",
      "...                                         ...        ...\n",
      "d56ca4de-1be4-499a-8242-b219e051f33c  26.924231 -17.270563\n",
      "d56ca4de-1be4-499a-8242-b219e051f33c  27.382061 -17.219883\n",
      "d56ca4de-1be4-499a-8242-b219e051f33c  27.398311 -17.129853\n",
      "d56ca4de-1be4-499a-8242-b219e051f33c  27.414560 -17.039822\n",
      "d56ca4de-1be4-499a-8242-b219e051f33c  27.430810 -16.949792\n",
      "\n",
      "[985274 rows x 2 columns]\n"
     ]
    }
   ],
   "source": [
    "lboard1 = df[df['id'] != 'ball'][['id', 'x', 'y']] \n",
    "total_distances = (\n",
    "    lboard1.groupby('id')\n",
    "    .apply(lambda x: np.sqrt((x['x'].diff()**2) +\n",
    "                             (x['y'].diff()**2)).sum(),\n",
    "                             include_groups=False)\n",
    "    .reset_index(name='total_distance')\n",
    "    .sort_values('total_distance', ascending=False) \n",
    "    .reset_index(drop=True)\n",
    ")\n",
    "print(total_distances)"
   ]
  },
  {
   "cell_type": "code",
   "execution_count": null,
   "metadata": {},
   "outputs": [],
   "source": [
    "lboard2 = df[(df['id'] != 'ball') &\n",
    "             (df['speed'] > 5.5) &\n",
    "             (df['speed'] < 6.97)][['id', 'x', 'y']]\n",
    "\n",
    "total_distances = (\n",
    "    lboard2.groupby('id')\n",
    "    .apply(lambda x: np.sqrt((x['x'].diff()**2) +\n",
    "                             (x['y'].diff()**2)).sum(),\n",
    "                             include_groups=False)\n",
    "    .reset_index(name='total_distance')\n",
    "    .sort_values('total_distance', ascending=False) \n",
    "    .reset_index(drop=True)\n",
    ")\n",
    "\n",
    "\n"
   ]
  },
  {
   "cell_type": "markdown",
   "metadata": {},
   "source": [
    "#### Max Speed\n",
    "- Filter for relevant columns\n",
    "- Perform the groupby, apply the function and sort ascending"
   ]
  },
  {
   "cell_type": "code",
   "execution_count": null,
   "metadata": {},
   "outputs": [],
   "source": [
    "lboard3 = df[df['id'] != 'ball'][['id', 'speed']]\n",
    "max_speed = lboard3.groupby('id').max().sort_values('speed', ascending=False)"
   ]
  },
  {
   "cell_type": "markdown",
   "metadata": {},
   "source": []
  },
  {
   "cell_type": "code",
   "execution_count": null,
   "metadata": {},
   "outputs": [],
   "source": [
    "import matplotlib.pyplot as plt\n",
    "import seaborn as sns\n",
    "from scipy.ndimage import gaussian_filter\n",
    "\n",
    "df = df.round({\"x\": 1, \"y\": 1})\n",
    "\n",
    "plt.figure(figsize = (10,8))\n",
    "df['x'] = pd.cut(df['x'], bins=60, labels=False)\n",
    "df['y'] = pd.cut(df['y'], bins=40, labels=False)\n",
    "\n",
    "position_counts = df.groupby(['x', 'y']).size().sort_values(ascending=False).reset_index(name='counts')\n",
    "#print(position_counts.iloc[1:])\n",
    "\n",
    "pos_smooth = gaussian_filter(position_counts.iloc[1:].pivot(index='x', columns='y', values='counts'), sigma=1)\n",
    "#pos_smooth = gaussian_filter(position_counts.pivot(index='x', columns='y', values='counts'), sigma=1)\n",
    "sns.heatmap(pos_smooth, cmap='coolwarm', cbar=False)\n",
    "\n",
    "#print(position_counts)\n",
    "plt.show()"
   ]
  }
 ],
 "metadata": {
  "kernelspec": {
   "display_name": "Python 3",
   "language": "python",
   "name": "python3"
  },
  "language_info": {
   "codemirror_mode": {
    "name": "ipython",
    "version": 3
   },
   "file_extension": ".py",
   "mimetype": "text/x-python",
   "name": "python",
   "nbconvert_exporter": "python",
   "pygments_lexer": "ipython3",
   "version": "3.12.8"
  }
 },
 "nbformat": 4,
 "nbformat_minor": 2
}
