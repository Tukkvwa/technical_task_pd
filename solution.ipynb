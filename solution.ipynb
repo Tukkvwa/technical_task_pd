{
 "cells": [
  {
   "cell_type": "code",
   "execution_count": null,
   "metadata": {},
   "outputs": [],
   "source": [
    "import pandas as pd\n",
    "import numpy as np\n",
    "df = pd.read_csv('match_data.csv')\n",
    "df.rename(columns={'Pitch_x': 'x', 'Pitch_y' : 'y',\n",
    "                   'participation_id' : 'id' , 'Time (s)': \n",
    "                   'time', 'Speed (m/s)': 'speed'}, inplace=True)"
   ]
  },
  {
   "cell_type": "markdown",
   "metadata": {},
   "source": [
    "### Leaderboard Generation\n",
    "Create a leaderboard ranking athletes based on the three key metrics:\n",
    "1. Total Distance – The total distance covered by each athlete.\n",
    "2. Distance at Speed Zone 5 – The cumulative distance an athlete runs while moving at a speed\n",
    "between 19.8 km/h and 25.1 km/h.\n",
    "3. Top Speed – The highest speed recorded for each athlete."
   ]
  },
  {
   "cell_type": "code",
   "execution_count": null,
   "metadata": {},
   "outputs": [
    {
     "name": "stdout",
     "output_type": "stream",
     "text": [
      "                                              x          y\n",
      "id                                                        \n",
      "019d8fa9-3cbd-42f2-bfcf-1bc676d13e0f -18.130694   1.660379\n",
      "019d8fa9-3cbd-42f2-bfcf-1bc676d13e0f -18.133425   1.645227\n",
      "019d8fa9-3cbd-42f2-bfcf-1bc676d13e0f -18.136155   1.630076\n",
      "019d8fa9-3cbd-42f2-bfcf-1bc676d13e0f -18.136155   1.630076\n",
      "019d8fa9-3cbd-42f2-bfcf-1bc676d13e0f -18.136155   1.630076\n",
      "...                                         ...        ...\n",
      "d56ca4de-1be4-499a-8242-b219e051f33c  26.924231 -17.270563\n",
      "d56ca4de-1be4-499a-8242-b219e051f33c  27.382061 -17.219883\n",
      "d56ca4de-1be4-499a-8242-b219e051f33c  27.398311 -17.129853\n",
      "d56ca4de-1be4-499a-8242-b219e051f33c  27.414560 -17.039822\n",
      "d56ca4de-1be4-499a-8242-b219e051f33c  27.430810 -16.949792\n",
      "\n",
      "[985274 rows x 2 columns]\n"
     ]
    }
   ],
   "source": [
    "df.sort_values(by=['id', 'time'], inplace=True)"
   ]
  },
  {
   "cell_type": "code",
   "execution_count": null,
   "metadata": {},
   "outputs": [],
   "source": [
    "\n",
    "\n"
   ]
  },
  {
   "cell_type": "code",
   "execution_count": null,
   "metadata": {},
   "outputs": [],
   "source": []
  }
 ],
 "metadata": {
  "kernelspec": {
   "display_name": "Python 3",
   "language": "python",
   "name": "python3"
  },
  "language_info": {
   "codemirror_mode": {
    "name": "ipython",
    "version": 3
   },
   "file_extension": ".py",
   "mimetype": "text/x-python",
   "name": "python",
   "nbconvert_exporter": "python",
   "pygments_lexer": "ipython3",
   "version": "3.12.8"
  }
 },
 "nbformat": 4,
 "nbformat_minor": 2
}
