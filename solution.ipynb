{
 "cells": [
  {
   "cell_type": "markdown",
   "metadata": {},
   "source": [
    "### Clean Data\n",
    "\n",
    "- Change column names to make it easier to write code with\n",
    "- Filter values to only include positions within valid regions of the pitch\n",
    "- Sort the values for more efficient grouping\n",
    "- Map IDs to new values for more interpretability"
   ]
  },
  {
   "cell_type": "code",
   "execution_count": null,
   "metadata": {},
   "outputs": [
    {
     "name": "stdout",
     "output_type": "stream",
     "text": [
      "['Emily' 'Steph' 'Laia' 'Leah' 'Alessia' 'Katie' 'Mariona' 'Lia' 'Daphne'\n",
      " 'Frida' 'Kim' 'Chloe' 'Kyra' 'Stina' 'ball']\n"
     ]
    }
   ],
   "source": [
    "import pandas as pd\n",
    "import numpy as np\n",
    "\n",
    "\n",
    "df = pd.read_csv('match_data.csv')\n",
    "df.rename(columns={'Pitch_x': 'x', 'Pitch_y' : 'y',\n",
    "                   'participation_id' : 'id' , 'Time (s)': \n",
    "                   'time', 'Speed (m/s)': 'speed'}, inplace=True)\n",
    "\n",
    "# Arsenal Women's team players for the match against Real Madrid\n",
    "new_names = ['Emily', 'Steph', 'Laia', 'Leah',\n",
    "             'Alessia', 'Katie', 'Mariona', 'Lia',\n",
    "             'Daphne', 'Frida', 'Kim', 'Chloe', \n",
    "             'Kyra', 'Stina', 'Beth']\n",
    "\n",
    "df['id'] = df[(df['id'] != 'ball')]['id'].map(dict(zip(df['id'].unique(), new_names)))\n",
    "df['id'] = df['id'].fillna('ball')\n",
    "\n",
    "df = df[(df['x'] > -52.5) &\n",
    "        (df['x'] < 52.5) &\n",
    "        (df['y'] > -34) &\n",
    "        (df['y'] < 34) &\n",
    "        (df['speed'] > 0) # trackers were not moving and were all in the same location\n",
    "        ] \n",
    "\n",
    "df.sort_values(by=['id', 'time'], inplace=True)"
   ]
  },
  {
   "cell_type": "markdown",
   "metadata": {},
   "source": [
    "### Leaderboard Generation\n",
    "Create a leaderboard ranking athletes based on the three key metrics:\n",
    "1. Total Distance – The total distance covered by each athlete.\n",
    "2. Distance at Speed Zone 5 – The cumulative distance an athlete runs while moving at a speed\n",
    "between 19.8 km/h and 25.1 km/h.\n",
    "3. Top Speed – The highest speed recorded for each athlete."
   ]
  },
  {
   "cell_type": "code",
   "execution_count": 28,
   "metadata": {},
   "outputs": [
    {
     "name": "stdout",
     "output_type": "stream",
     "text": [
      "         id  total_distance\n",
      "0      Kyra    11997.300936\n",
      "1   Alessia    11517.437233\n",
      "2       Lia    11450.617449\n",
      "3     Frida    11015.236440\n",
      "4       Kim     9969.641081\n",
      "5   Mariona     9709.671493\n",
      "6     Chloe     8536.513427\n",
      "7    Daphne     8217.648173\n",
      "8     Katie     7745.246281\n",
      "9     Stina     4276.831954\n",
      "10    Steph     3115.694337\n",
      "11    Emily     1598.497534\n",
      "12     Leah      991.271944\n",
      "13     Laia      982.629093\n"
     ]
    }
   ],
   "source": [
    "lboard1 = df[df['id'] != 'ball'][['id', 'x', 'y']] \n",
    "total_distances = (\n",
    "    lboard1.groupby('id')\n",
    "    .apply(lambda x: np.sqrt((x['x'].diff()**2) +\n",
    "                             (x['y'].diff()**2)).sum(),\n",
    "                             include_groups=False)\n",
    "    .reset_index(name='total_distance')\n",
    "    .sort_values('total_distance', ascending=False) \n",
    "    .reset_index(drop=True)\n",
    ")\n",
    "print(total_distances)"
   ]
  },
  {
   "cell_type": "code",
   "execution_count": 46,
   "metadata": {},
   "outputs": [
    {
     "name": "stdout",
     "output_type": "stream",
     "text": [
      "         id  distance_zone2\n",
      "0     Frida     2461.970263\n",
      "1      Kyra     2359.354563\n",
      "2       Kim     1423.309597\n",
      "3   Alessia     1216.034475\n",
      "4   Mariona      941.911000\n",
      "5     Chloe      913.869905\n",
      "6    Daphne      805.991163\n",
      "7       Lia      719.581942\n",
      "8     Katie      706.193814\n",
      "9     Steph      548.841893\n",
      "10    Stina      449.473451\n",
      "11    Emily      125.372260\n",
      "12     Laia       65.194673\n"
     ]
    }
   ],
   "source": [
    "lboard2 = df[(df['id'] != 'ball') &\n",
    "             (df['speed'] > 5.5) &\n",
    "             (df['speed'] < 6.97)][['id', 'x', 'y']]\n",
    "\n",
    "distance_zone2 = (\n",
    "    lboard2.groupby('id')\n",
    "    .apply(lambda x: np.sqrt((x['x'].diff()**2) +\n",
    "                             (x['y'].diff()**2)).sum(),\n",
    "                             include_groups=False)\n",
    "    .reset_index(name='distance_zone2')\n",
    "    .sort_values('distance_zone2', ascending=False) \n",
    "    .reset_index(drop=True)\n",
    ")\n",
    "\n",
    "print(distance_zone2)"
   ]
  },
  {
   "cell_type": "markdown",
   "metadata": {},
   "source": [
    "### Max Speed\n",
    "- Filter for relevant columns\n",
    "- Perform the groupby, apply the function and sort ascending"
   ]
  },
  {
   "cell_type": "code",
   "execution_count": 30,
   "metadata": {},
   "outputs": [
    {
     "name": "stdout",
     "output_type": "stream",
     "text": [
      "         speed\n",
      "id            \n",
      "Frida    8.200\n",
      "Laia     7.789\n",
      "Mariona  7.693\n",
      "Kim      7.683\n",
      "Steph    7.559\n",
      "Daphne   7.528\n",
      "Kyra     7.136\n",
      "Chloe    7.076\n",
      "Stina    6.997\n",
      "Alessia  6.990\n",
      "Katie    6.969\n",
      "Lia      6.724\n",
      "Emily    6.644\n",
      "Leah     3.693\n"
     ]
    }
   ],
   "source": [
    "lboard3 = df[df['id'] != 'ball'][['id', 'speed']]\n",
    "max_speed = lboard3.groupby('id').max().sort_values('speed', ascending=False)\n",
    "\n",
    "print(max_speed)"
   ]
  },
  {
   "cell_type": "markdown",
   "metadata": {},
   "source": [
    "### Heatmap\n",
    "\n",
    "- Heatmap of player positions\n",
    "- Smoothed with Gaussian filter for easier visualisation\n",
    "- concentration in the corner suggests that there was a celebration"
   ]
  },
  {
   "cell_type": "code",
   "execution_count": null,
   "metadata": {},
   "outputs": [
    {
     "data": {
      "image/png": "[encoded data removed]",
      "text/plain": [
       "<Figure size 1000x800 with 1 Axes>"
      ]
     },
     "metadata": {},
     "output_type": "display_data"
    }
   ],
   "source": [
    "import matplotlib.pyplot as plt\n",
    "import seaborn as sns\n",
    "from scipy.ndimage import gaussian_filter\n",
    "\n",
    "\n",
    "plot_df = df\n",
    "\n",
    "# round the values up to 1 decimal place so the heatmap is not too granular\n",
    "plot_df.round({\"x\": 1, \"y\": 1})\n",
    "plt.figure(figsize = (10,8))\n",
    "\n",
    "# bin the x and y values to make the heatmap less granular, 60/40 chosen to maintain the ratio of the pitch\n",
    "plot_df['x'] = pd.cut(plot_df['x'], bins=60, labels=False)\n",
    "plot_df['y'] = pd.cut(plot_df['y'], bins=40, labels=False)\n",
    "\n",
    "position_counts = plot_df.groupby(['x', 'y']).size().sort_values(ascending=False).reset_index(name='counts')\n",
    "\n",
    "# smooth the heatmap\n",
    "pos_smooth = gaussian_filter(position_counts.pivot(index='x', columns='y', values='counts'), sigma=1)\n",
    "sns.heatmap(pos_smooth, cmap='coolwarm', cbar=False)\n",
    "\n",
    "\n",
    "plt.show()\n"
   ]
  },
  {
   "cell_type": "markdown",
   "metadata": {},
   "source": [
    "### Posession\n",
    "\n",
    "- Determine players posession numbers based on their proximity to the ball (very rough estimate and method)\n",
    "- Can also be used for any two players"
   ]
  },
  {
   "cell_type": "code",
   "execution_count": 50,
   "metadata": {},
   "outputs": [
    {
     "name": "stdout",
     "output_type": "stream",
     "text": [
      "ball spent approximately 75.8 seconds with Kim\n",
      "ball spent approximately 45.0 seconds with Kyra\n",
      "ball spent approximately 40.3 seconds with Alessia\n",
      "ball spent approximately 36.8 seconds with Frida\n",
      "ball spent approximately 21.2 seconds with Lia\n",
      "ball spent approximately 20.4 seconds with Chloe\n",
      "ball spent approximately 16.1 seconds with Katie\n",
      "ball spent approximately 12.2 seconds with Steph\n",
      "ball spent approximately 8.7 seconds with Mariona\n",
      "ball spent approximately 3.5 seconds with Stina\n",
      "ball spent approximately 2.7 seconds with Daphne\n",
      "ball spent approximately 0.6 seconds with Leah\n"
     ]
    }
   ],
   "source": [
    "\n",
    "from collections import defaultdict\n",
    "\n",
    "def time_spent(df, target_id, proximity_threshold=3):\n",
    "\n",
    "    time_groups = df.groupby('time')\n",
    "    time_with_others = defaultdict(int)\n",
    "\n",
    "    for time, group in time_groups:\n",
    "        # Get target's coordinates at this time\n",
    "        target_data = group[group['id'] == target_id]\n",
    "        if target_data.empty:\n",
    "            continue  \n",
    "        \n",
    "        x_target = target_data['x'].values[0]\n",
    "        y_target = target_data['y'].values[0]\n",
    "        \n",
    "        # Compute Euclidean distance from target to all others at this time\n",
    "        group['distance'] = np.sqrt(\n",
    "            (group['x'] - x_target) ** 2 + \n",
    "            (group['y'] - y_target) ** 2\n",
    "        )\n",
    "        \n",
    "        # Filter IDs within proximity threshold (excluding itself)\n",
    "        nearby_ids = group[(group['distance'] <= proximity_threshold) & \n",
    "                           (group['id'] != target_id)]['id'].tolist()\n",
    "        \n",
    "        # Increment time spent with each nearby ID (assuming 0.1 time unit per row)\n",
    "        for other_id in nearby_ids:\n",
    "            time_with_others[other_id] += 0.1\n",
    "\n",
    "    time_with_others = dict(sorted(time_with_others.items(), key=lambda item: item[1], reverse=True))\n",
    "    for k,v in time_with_others.items():\n",
    "        print(f'{target_id} spent approximately {v:.1f} seconds with {k}')\n",
    "\n",
    "time_spent(df, 'ball')"
   ]
  }
 ],
 "metadata": {
  "kernelspec": {
   "display_name": "Python 3",
   "language": "python",
   "name": "python3"
  },
  "language_info": {
   "codemirror_mode": {
    "name": "ipython",
    "version": 3
   },
   "file_extension": ".py",
   "mimetype": "text/x-python",
   "name": "python",
   "nbconvert_exporter": "python",
   "pygments_lexer": "ipython3",
   "version": "3.12.8"
  }
 },
 "nbformat": 4,
 "nbformat_minor": 2
}
